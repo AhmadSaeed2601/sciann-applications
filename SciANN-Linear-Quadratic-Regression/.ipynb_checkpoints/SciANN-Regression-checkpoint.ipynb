{
 "cells": [
  {
   "cell_type": "markdown",
   "metadata": {
    "colab": {
     "base_uri": "https://localhost:8080/",
     "height": 853
    },
    "colab_type": "code",
    "id": "hlWZIGHrCNcS",
    "outputId": "a87ee008-4f62-49c2-e893-6d1acc423499"
   },
   "source": [
    "# SciANN-Regression.py\n",
    "\n",
    "An illustrain to use SciANN simple linear and quadratic curve-fitting.\n",
    "\n",
    "For additional details, please check our paper at: https://arxiv.org/abs/2005.08803 \n",
    "    \n",
    "Created by Ehsan Haghighat on 5/01/20."
   ]
  },
  {
   "cell_type": "code",
   "execution_count": 1,
   "metadata": {},
   "outputs": [],
   "source": [
    "# You need to have tensorflow, keras, and sciann installed in your system. \n",
    "# On google cloud, uncomment next line to install sciann. \n",
    "\n",
    "# !pip install sciann "
   ]
  },
  {
   "cell_type": "code",
   "execution_count": 2,
   "metadata": {
    "colab": {
     "base_uri": "https://localhost:8080/",
     "height": 334
    },
    "colab_type": "code",
    "id": "CM0Qrmd5C8t9",
    "outputId": "3393ef51-7980-4a54-9154-61c4330fc042"
   },
   "outputs": [
    {
     "name": "stderr",
     "output_type": "stream",
     "text": [
      "Using TensorFlow backend.\n"
     ]
    },
    {
     "name": "stdout",
     "output_type": "stream",
     "text": [
      "---------------------- SCIANN 0.4.5.2 ---------------------- \n",
      "For details, check the review paper and the documentation at: \n",
      " +  \"https://arxiv.org/abs/2005.08803\", \n",
      " +  \"https://www.sciann.com\". \n",
      "\n"
     ]
    }
   ],
   "source": [
    "import numpy as np \n",
    "import matplotlib.pyplot as plt \n",
    "import sciann as sn "
   ]
  },
  {
   "cell_type": "markdown",
   "metadata": {
    "colab_type": "text",
    "id": "aNdSan4UCYVL"
   },
   "source": [
    "# SciANN for Linear Regression  "
   ]
  },
  {
   "cell_type": "markdown",
   "metadata": {
    "colab_type": "text",
    "id": "IPzsUX-wCgKS"
   },
   "source": [
    "The objective is to fit NN on data generated from \n",
    "$$\n",
    "y = 2x+1+\\epsilon, \\quad \\epsilon \\sim N(0,\\sigma) = \\sigma^2 N(0,1)\n",
    "$$"
   ]
  },
  {
   "cell_type": "code",
   "execution_count": 3,
   "metadata": {
    "colab": {
     "base_uri": "https://localhost:8080/",
     "height": 198
    },
    "colab_type": "code",
    "id": "LAmiys7JCqbZ",
    "outputId": "0847c0b4-5e39-4193-efcd-94de9e4fbb75"
   },
   "outputs": [
    {
     "data": {
      "text/plain": [
       "<matplotlib.collections.PathCollection at 0x7fd03019a690>"
      ]
     },
     "execution_count": 3,
     "metadata": {},
     "output_type": "execute_result"
    },
    {
     "data": {
      "image/png": "[encoded data removed]",
      "text/plain": [
       "<Figure size 432x288 with 1 Axes>"
      ]
     },
     "metadata": {
      "needs_background": "light"
     },
     "output_type": "display_data"
    }
   ],
   "source": [
    "x_data = np.linspace(-1, 1, 1000)\n",
    "y_data = 2*x_data + 1 + np.random.randn(1000)*0.5**2\n",
    "\n",
    "plt.scatter(x_data, y_data)"
   ]
  },
  {
   "cell_type": "markdown",
   "metadata": {
    "colab_type": "text",
    "id": "v4mzOxSM_15W"
   },
   "source": [
    "## Step 1\n",
    "The first step is to define the approxmation using neural networks. The simplest neural network is a linear regression model, i.e., a network \n",
    "without any hidden layers:  "
   ]
  },
  {
   "cell_type": "code",
   "execution_count": 4,
   "metadata": {
    "colab": {},
    "colab_type": "code",
    "id": "65gVhIa6E2Z1"
   },
   "outputs": [],
   "source": [
    "x = sn.Variable('x')\n",
    "o = sn.Field('y')\n",
    "y = sn.Functional(o, x)"
   ]
  },
  {
   "cell_type": "markdown",
   "metadata": {
    "colab_type": "text",
    "id": "bo1jx_bCAPKC"
   },
   "source": [
    "You can check initial values of network weights and biasses as:"
   ]
  },
  {
   "cell_type": "code",
   "execution_count": 5,
   "metadata": {
    "colab": {
     "base_uri": "https://localhost:8080/",
     "height": 34
    },
    "colab_type": "code",
    "id": "YgCxFkRkGTox",
    "outputId": "afa45961-ef71-4701-de92-6edb0a3cbcc7"
   },
   "outputs": [
    {
     "data": {
      "text/plain": [
       "[[array([[-1.5188273]], dtype=float32), array([0.01716936], dtype=float32)]]"
      ]
     },
     "execution_count": 5,
     "metadata": {},
     "output_type": "execute_result"
    }
   ],
   "source": [
    "y.get_weights()"
   ]
  },
  {
   "cell_type": "markdown",
   "metadata": {
    "colab_type": "text",
    "id": "j5fjEXsmARO7"
   },
   "source": [
    "You can eval a functional using the `eval' function:"
   ]
  },
  {
   "cell_type": "code",
   "execution_count": 6,
   "metadata": {
    "colab": {
     "base_uri": "https://localhost:8080/",
     "height": 282
    },
    "colab_type": "code",
    "id": "XctCHB8uGdQM",
    "outputId": "87fd0891-a981-4016-ae0e-f115fbd71a2f"
   },
   "outputs": [
    {
     "data": {
      "text/plain": [
       "[<matplotlib.lines.Line2D at 0x7fd066826350>]"
      ]
     },
     "execution_count": 6,
     "metadata": {},
     "output_type": "execute_result"
    },
    {
     "data": {
      "image/png": "[encoded data removed]",
      "text/plain": [
       "<Figure size 432x288 with 1 Axes>"
      ]
     },
     "metadata": {
      "needs_background": "light"
     },
     "output_type": "display_data"
    }
   ],
   "source": [
    "y_pred = y.eval(x_data)\n",
    "\n",
    "plt.scatter(x_data, y_data)\n",
    "plt.plot(x_data, y_pred, 'r')"
   ]
  },
  {
   "cell_type": "markdown",
   "metadata": {
    "colab_type": "text",
    "id": "h3b9w73JAcSe"
   },
   "source": [
    "## Step 2\n",
    "The second step is the define the optimization model, i.e., main inputs of the network and targets (objtives). This is done using SciModel interface:"
   ]
  },
  {
   "cell_type": "code",
   "execution_count": 7,
   "metadata": {
    "colab": {},
    "colab_type": "code",
    "id": "Ywjbe2q8Gz18"
   },
   "outputs": [],
   "source": [
    "d1 = sn.Data(y)\n",
    "m = sn.SciModel(x, d1)"
   ]
  },
  {
   "cell_type": "markdown",
   "metadata": {
    "colab_type": "text",
    "id": "OziRwhkvA3bT"
   },
   "source": [
    "Once the model is defined, we can use the `train' function to identify the parameters of the network: "
   ]
  },
  {
   "cell_type": "code",
   "execution_count": 8,
   "metadata": {
    "colab": {
     "base_uri": "https://localhost:8080/",
     "height": 1000
    },
    "colab_type": "code",
    "id": "rjOmPUZpHZe6",
    "outputId": "5c9b72d2-5fc8-4104-ddc0-2b30c7caa1b9"
   },
   "outputs": [
    {
     "name": "stdout",
     "output_type": "stream",
     "text": [
      "Epoch 1/100\n",
      "1000/1000 [==============================] - 0s 229us/step - loss: 4.8152\n",
      "Epoch 2/100\n",
      "1000/1000 [==============================] - 0s 18us/step - loss: 4.2180\n",
      "Epoch 3/100\n",
      "1000/1000 [==============================] - 0s 17us/step - loss: 3.6791\n",
      "Epoch 4/100\n",
      "1000/1000 [==============================] - 0s 15us/step - loss: 3.2429\n",
      "Epoch 5/100\n",
      "1000/1000 [==============================] - 0s 15us/step - loss: 2.8639\n",
      "Epoch 6/100\n",
      "1000/1000 [==============================] - 0s 15us/step - loss: 2.5332\n",
      "Epoch 7/100\n",
      "1000/1000 [==============================] - 0s 16us/step - loss: 2.2556\n",
      "Epoch 8/100\n",
      "1000/1000 [==============================] - 0s 15us/step - loss: 2.0068\n",
      "Epoch 9/100\n",
      "1000/1000 [==============================] - 0s 14us/step - loss: 1.7899\n",
      "Epoch 10/100\n",
      "1000/1000 [==============================] - 0s 14us/step - loss: 1.5957\n",
      "Epoch 11/100\n",
      "1000/1000 [==============================] - 0s 14us/step - loss: 1.4201\n",
      "Epoch 12/100\n",
      "1000/1000 [==============================] - 0s 14us/step - loss: 1.2649\n",
      "Epoch 13/100\n",
      "1000/1000 [==============================] - 0s 14us/step - loss: 1.1230\n",
      "Epoch 14/100\n",
      "1000/1000 [==============================] - 0s 14us/step - loss: 0.9936\n",
      "Epoch 15/100\n",
      "1000/1000 [==============================] - 0s 14us/step - loss: 0.8808\n",
      "Epoch 16/100\n",
      "1000/1000 [==============================] - 0s 14us/step - loss: 0.7763\n",
      "Epoch 17/100\n",
      "1000/1000 [==============================] - 0s 16us/step - loss: 0.6845\n",
      "Epoch 18/100\n",
      "1000/1000 [==============================] - 0s 15us/step - loss: 0.6030\n",
      "Epoch 19/100\n",
      "1000/1000 [==============================] - 0s 15us/step - loss: 0.5301\n",
      "Epoch 20/100\n",
      "1000/1000 [==============================] - 0s 15us/step - loss: 0.4652\n",
      "Epoch 21/100\n",
      "1000/1000 [==============================] - 0s 15us/step - loss: 0.4094\n",
      "Epoch 22/100\n",
      "1000/1000 [==============================] - 0s 16us/step - loss: 0.3589\n",
      "Epoch 23/100\n",
      "1000/1000 [==============================] - 0s 16us/step - loss: 0.3151\n",
      "Epoch 24/100\n",
      "1000/1000 [==============================] - 0s 15us/step - loss: 0.2772\n",
      "Epoch 25/100\n",
      "1000/1000 [==============================] - 0s 14us/step - loss: 0.2441\n",
      "Epoch 26/100\n",
      "1000/1000 [==============================] - 0s 14us/step - loss: 0.2154\n",
      "Epoch 27/100\n",
      "1000/1000 [==============================] - 0s 15us/step - loss: 0.1909\n",
      "Epoch 28/100\n",
      "1000/1000 [==============================] - 0s 15us/step - loss: 0.1699\n",
      "Epoch 29/100\n",
      "1000/1000 [==============================] - 0s 14us/step - loss: 0.1522\n",
      "Epoch 30/100\n",
      "1000/1000 [==============================] - 0s 14us/step - loss: 0.1368\n",
      "Epoch 31/100\n",
      "1000/1000 [==============================] - 0s 14us/step - loss: 0.1238\n",
      "Epoch 32/100\n",
      "1000/1000 [==============================] - 0s 14us/step - loss: 0.1130\n",
      "Epoch 33/100\n",
      "1000/1000 [==============================] - 0s 15us/step - loss: 0.1037\n",
      "Epoch 34/100\n",
      "1000/1000 [==============================] - 0s 15us/step - loss: 0.0961\n",
      "Epoch 35/100\n",
      "1000/1000 [==============================] - 0s 15us/step - loss: 0.0898\n",
      "Epoch 36/100\n",
      "1000/1000 [==============================] - 0s 15us/step - loss: 0.0846\n",
      "Epoch 37/100\n",
      "1000/1000 [==============================] - 0s 15us/step - loss: 0.0802\n",
      "Epoch 38/100\n",
      "1000/1000 [==============================] - 0s 15us/step - loss: 0.0767\n",
      "Epoch 39/100\n",
      "1000/1000 [==============================] - 0s 14us/step - loss: 0.0738\n",
      "Epoch 40/100\n",
      "1000/1000 [==============================] - 0s 15us/step - loss: 0.0714\n",
      "Epoch 41/100\n",
      "1000/1000 [==============================] - 0s 14us/step - loss: 0.0696\n",
      "Epoch 42/100\n",
      "1000/1000 [==============================] - 0s 14us/step - loss: 0.0680\n",
      "Epoch 43/100\n",
      "1000/1000 [==============================] - 0s 14us/step - loss: 0.0667\n",
      "Epoch 44/100\n",
      "1000/1000 [==============================] - 0s 14us/step - loss: 0.0657\n",
      "Epoch 45/100\n",
      "1000/1000 [==============================] - 0s 15us/step - loss: 0.0649\n",
      "Epoch 46/100\n",
      "1000/1000 [==============================] - 0s 15us/step - loss: 0.0643\n",
      "Epoch 47/100\n",
      "1000/1000 [==============================] - 0s 14us/step - loss: 0.0638\n",
      "Epoch 48/100\n",
      "1000/1000 [==============================] - 0s 15us/step - loss: 0.0634\n",
      "Epoch 49/100\n",
      "1000/1000 [==============================] - 0s 14us/step - loss: 0.0631\n",
      "Epoch 50/100\n",
      "1000/1000 [==============================] - 0s 14us/step - loss: 0.0628\n",
      "Epoch 51/100\n",
      "1000/1000 [==============================] - 0s 15us/step - loss: 0.0626\n",
      "Epoch 52/100\n",
      "1000/1000 [==============================] - 0s 14us/step - loss: 0.0625\n",
      "Epoch 53/100\n",
      "1000/1000 [==============================] - 0s 14us/step - loss: 0.0624\n",
      "Epoch 54/100\n",
      "1000/1000 [==============================] - 0s 14us/step - loss: 0.0623\n",
      "Epoch 55/100\n",
      "1000/1000 [==============================] - 0s 14us/step - loss: 0.0623\n",
      "Epoch 56/100\n",
      "1000/1000 [==============================] - 0s 14us/step - loss: 0.0622\n",
      "Epoch 57/100\n",
      "1000/1000 [==============================] - 0s 14us/step - loss: 0.0622\n",
      "Epoch 58/100\n",
      "1000/1000 [==============================] - 0s 14us/step - loss: 0.0621\n",
      "Epoch 59/100\n",
      "1000/1000 [==============================] - 0s 14us/step - loss: 0.0621\n",
      "\n",
      "Epoch 00059: ReduceLROnPlateau reducing learning rate to 0.004999999888241291.\n",
      "Epoch 60/100\n",
      "1000/1000 [==============================] - 0s 14us/step - loss: 0.0621\n",
      "Epoch 61/100\n",
      "1000/1000 [==============================] - 0s 14us/step - loss: 0.0621\n",
      "Epoch 62/100\n",
      "1000/1000 [==============================] - 0s 14us/step - loss: 0.0621\n",
      "Epoch 63/100\n",
      "1000/1000 [==============================] - 0s 14us/step - loss: 0.0621\n",
      "Epoch 64/100\n",
      "1000/1000 [==============================] - 0s 14us/step - loss: 0.0621\n",
      "Epoch 65/100\n",
      "1000/1000 [==============================] - 0s 15us/step - loss: 0.0621\n",
      "Epoch 66/100\n",
      "1000/1000 [==============================] - 0s 15us/step - loss: 0.0621\n",
      "Epoch 67/100\n",
      "1000/1000 [==============================] - 0s 15us/step - loss: 0.0621\n",
      "Epoch 68/100\n",
      "1000/1000 [==============================] - 0s 14us/step - loss: 0.0620\n",
      "Epoch 69/100\n",
      "1000/1000 [==============================] - 0s 14us/step - loss: 0.0620\n",
      "Epoch 70/100\n",
      "1000/1000 [==============================] - 0s 14us/step - loss: 0.0620\n",
      "Epoch 71/100\n",
      "1000/1000 [==============================] - 0s 14us/step - loss: 0.0621\n",
      "Epoch 72/100\n",
      "1000/1000 [==============================] - 0s 15us/step - loss: 0.0620\n",
      "Epoch 73/100\n",
      "1000/1000 [==============================] - 0s 14us/step - loss: 0.0620\n",
      "Epoch 74/100\n",
      "1000/1000 [==============================] - 0s 14us/step - loss: 0.0620\n",
      "Epoch 75/100\n",
      "1000/1000 [==============================] - 0s 14us/step - loss: 0.0620\n",
      "Epoch 76/100\n",
      "1000/1000 [==============================] - 0s 14us/step - loss: 0.0620\n",
      "Epoch 77/100\n",
      "1000/1000 [==============================] - 0s 14us/step - loss: 0.0620\n",
      "Epoch 78/100\n",
      "1000/1000 [==============================] - 0s 15us/step - loss: 0.0621\n",
      "\n",
      "Epoch 00078: ReduceLROnPlateau reducing learning rate to 0.0024999999441206455.\n",
      "Epoch 79/100\n",
      "1000/1000 [==============================] - 0s 16us/step - loss: 0.0620\n",
      "Epoch 80/100\n",
      "1000/1000 [==============================] - 0s 16us/step - loss: 0.0620\n",
      "Epoch 81/100\n",
      "1000/1000 [==============================] - 0s 14us/step - loss: 0.0620\n",
      "Epoch 82/100\n",
      "1000/1000 [==============================] - 0s 15us/step - loss: 0.0620\n",
      "Epoch 83/100\n",
      "1000/1000 [==============================] - 0s 14us/step - loss: 0.0620\n",
      "Epoch 84/100\n",
      "1000/1000 [==============================] - 0s 15us/step - loss: 0.0621\n",
      "Epoch 85/100\n",
      "1000/1000 [==============================] - 0s 14us/step - loss: 0.0620\n",
      "Epoch 86/100\n",
      "1000/1000 [==============================] - 0s 14us/step - loss: 0.0620\n",
      "Epoch 87/100\n",
      "1000/1000 [==============================] - 0s 14us/step - loss: 0.0620\n",
      "Epoch 88/100\n",
      "1000/1000 [==============================] - 0s 14us/step - loss: 0.0620\n",
      "Epoch 89/100\n",
      "1000/1000 [==============================] - 0s 14us/step - loss: 0.0620\n",
      "Epoch 90/100\n",
      "1000/1000 [==============================] - 0s 14us/step - loss: 0.0620\n",
      "Epoch 91/100\n",
      "1000/1000 [==============================] - 0s 15us/step - loss: 0.0620\n",
      "Epoch 92/100\n",
      "1000/1000 [==============================] - 0s 14us/step - loss: 0.0620\n",
      "Epoch 93/100\n",
      "1000/1000 [==============================] - 0s 15us/step - loss: 0.0620\n",
      "Epoch 94/100\n"
     ]
    },
    {
     "name": "stdout",
     "output_type": "stream",
     "text": [
      "1000/1000 [==============================] - 0s 15us/step - loss: 0.0620\n",
      "Epoch 95/100\n",
      "1000/1000 [==============================] - 0s 14us/step - loss: 0.0620\n",
      "Epoch 96/100\n",
      "1000/1000 [==============================] - 0s 14us/step - loss: 0.0620\n",
      "Epoch 97/100\n",
      "1000/1000 [==============================] - 0s 15us/step - loss: 0.0620\n",
      "\n",
      "Epoch 00097: ReduceLROnPlateau reducing learning rate to 0.0012499999720603228.\n",
      "Epoch 98/100\n",
      "1000/1000 [==============================] - 0s 14us/step - loss: 0.0620\n",
      "Epoch 99/100\n",
      "1000/1000 [==============================] - 0s 14us/step - loss: 0.0620\n",
      "Epoch 100/100\n",
      "1000/1000 [==============================] - 0s 13us/step - loss: 0.0620\n"
     ]
    },
    {
     "data": {
      "text/plain": [
       "<keras.callbacks.callbacks.History at 0x7fcff0077d90>"
      ]
     },
     "execution_count": 8,
     "metadata": {},
     "output_type": "execute_result"
    }
   ],
   "source": [
    "m.train(x_data, y_data, learning_rate=0.01)"
   ]
  },
  {
   "cell_type": "markdown",
   "metadata": {
    "colab_type": "text",
    "id": "Q6E_eX6SBFR6"
   },
   "source": [
    "We can now re-evaluate the network as:"
   ]
  },
  {
   "cell_type": "code",
   "execution_count": 9,
   "metadata": {
    "colab": {
     "base_uri": "https://localhost:8080/",
     "height": 282
    },
    "colab_type": "code",
    "id": "Iwg2exd6IRK0",
    "outputId": "320589f3-2527-45c4-9279-7d30bf47c715"
   },
   "outputs": [
    {
     "data": {
      "text/plain": [
       "[<matplotlib.lines.Line2D at 0x7fd0202dd850>]"
      ]
     },
     "execution_count": 9,
     "metadata": {},
     "output_type": "execute_result"
    },
    {
     "data": {
      "image/png": "[encoded data removed]",
      "text/plain": [
       "<Figure size 432x288 with 1 Axes>"
      ]
     },
     "metadata": {
      "needs_background": "light"
     },
     "output_type": "display_data"
    }
   ],
   "source": [
    "y_pred = y.eval(x_data)\n",
    "\n",
    "plt.scatter(x_data, y_data)\n",
    "plt.plot(x_data, y_pred, 'r')"
   ]
  },
  {
   "cell_type": "markdown",
   "metadata": {
    "colab_type": "text",
    "id": "KCOW03v6BKP4"
   },
   "source": [
    "The final values of weights and biases are obtained: "
   ]
  },
  {
   "cell_type": "code",
   "execution_count": 10,
   "metadata": {
    "colab": {
     "base_uri": "https://localhost:8080/",
     "height": 34
    },
    "colab_type": "code",
    "id": "S9wse4PgIWyb",
    "outputId": "5cefe9d8-f6c3-4c22-cae3-6872831270d5"
   },
   "outputs": [
    {
     "data": {
      "text/plain": [
       "[[array([[1.9860145]], dtype=float32), array([0.9968226], dtype=float32)]]"
      ]
     },
     "execution_count": 10,
     "metadata": {},
     "output_type": "execute_result"
    }
   ],
   "source": [
    "y.get_weights()"
   ]
  },
  {
   "cell_type": "markdown",
   "metadata": {
    "colab_type": "text",
    "id": "egW3zY3JBOI_"
   },
   "source": [
    "As you find, these are very close to their true values for data. "
   ]
  },
  {
   "cell_type": "markdown",
   "metadata": {
    "colab_type": "text",
    "id": "5VXcTsVKJOki"
   },
   "source": [
    "# SciANN for Quadratic Regression \n",
    "\n",
    "As the second example, let us assume that we have a the following dataset: \n",
    "$$\n",
    "y = 2x^2 -x + 1 + \\epsilon, \\quad \\epsilon \\sim N(0, \\sigma^2)\n",
    "$$\n",
    "\n",
    "and we wish to perform a quadratic regression using neural networks. "
   ]
  },
  {
   "cell_type": "code",
   "execution_count": 11,
   "metadata": {
    "colab": {
     "base_uri": "https://localhost:8080/",
     "height": 282
    },
    "colab_type": "code",
    "id": "KIizvQppJbRv",
    "outputId": "9d7cd8a6-d157-480a-edbc-4e0541178d35"
   },
   "outputs": [
    {
     "data": {
      "text/plain": [
       "<matplotlib.collections.PathCollection at 0x7fd0283c9290>"
      ]
     },
     "execution_count": 11,
     "metadata": {},
     "output_type": "execute_result"
    },
    {
     "data": {
      "image/png": "[encoded data removed]",
      "text/plain": [
       "<Figure size 432x288 with 1 Axes>"
      ]
     },
     "metadata": {
      "needs_background": "light"
     },
     "output_type": "display_data"
    }
   ],
   "source": [
    "x_data = np.linspace(-1, 1, 1000)\n",
    "y_data = 2*x_data**2 - x_data + 1 + np.random.randn(1000)*0.2**2\n",
    "plt.scatter(x_data, y_data)"
   ]
  },
  {
   "cell_type": "markdown",
   "metadata": {
    "colab_type": "text",
    "id": "IMhqGSRZCC7Z"
   },
   "source": [
    "## Step 1\n",
    "\n",
    "Again, we first need to define the approximation space, i.e., the quadratic model: "
   ]
  },
  {
   "cell_type": "code",
   "execution_count": 12,
   "metadata": {
    "colab": {},
    "colab_type": "code",
    "id": "Gi2P57slJnmJ"
   },
   "outputs": [],
   "source": [
    "x = sn.Variable('x')\n",
    "x2 = sn.Variable('x2')\n",
    "y = sn.Functional('y', [x, x2])"
   ]
  },
  {
   "cell_type": "markdown",
   "metadata": {
    "colab_type": "text",
    "id": "oczOejBTCXpH"
   },
   "source": [
    "Initial state of the approximation can be evaluated as:"
   ]
  },
  {
   "cell_type": "code",
   "execution_count": 13,
   "metadata": {
    "colab": {
     "base_uri": "https://localhost:8080/",
     "height": 282
    },
    "colab_type": "code",
    "id": "QQpbzMoJKDxZ",
    "outputId": "1f697bfe-bc37-4942-bd9d-db1c53921b93"
   },
   "outputs": [
    {
     "data": {
      "text/plain": [
       "[<matplotlib.lines.Line2D at 0x7fd05015cfd0>]"
      ]
     },
     "execution_count": 13,
     "metadata": {},
     "output_type": "execute_result"
    },
    {
     "data": {
      "image/png": "[encoded data removed]",
      "text/plain": [
       "<Figure size 432x288 with 1 Axes>"
      ]
     },
     "metadata": {
      "needs_background": "light"
     },
     "output_type": "display_data"
    }
   ],
   "source": [
    "y_pred = y.eval([x_data, x_data**2])\n",
    "\n",
    "plt.scatter(x_data, y_data)\n",
    "plt.plot(x_data, y_pred, 'r')"
   ]
  },
  {
   "cell_type": "markdown",
   "metadata": {
    "colab_type": "text",
    "id": "ym-mDW49Cdne"
   },
   "source": [
    "## Step 2\n",
    "\n",
    "Defining the optimization model and training the network:"
   ]
  },
  {
   "cell_type": "code",
   "execution_count": 14,
   "metadata": {
    "colab": {
     "base_uri": "https://localhost:8080/",
     "height": 1000
    },
    "colab_type": "code",
    "id": "n2SKMAdMJ1SS",
    "outputId": "a54c9250-b70a-48c4-9255-cc50799d5ac4"
   },
   "outputs": [
    {
     "name": "stdout",
     "output_type": "stream",
     "text": [
      "Epoch 1/100\n",
      "1000/1000 [==============================] - 0s 233us/step - loss: 1.7561\n",
      "Epoch 2/100\n",
      "1000/1000 [==============================] - 0s 18us/step - loss: 0.7878\n",
      "Epoch 3/100\n",
      "1000/1000 [==============================] - 0s 16us/step - loss: 0.2706\n",
      "Epoch 4/100\n",
      "1000/1000 [==============================] - 0s 16us/step - loss: 0.0640\n",
      "Epoch 5/100\n",
      "1000/1000 [==============================] - 0s 16us/step - loss: 0.0112\n",
      "Epoch 6/100\n",
      "1000/1000 [==============================] - 0s 15us/step - loss: 0.0024\n",
      "Epoch 7/100\n",
      "1000/1000 [==============================] - 0s 15us/step - loss: 0.0019\n",
      "Epoch 8/100\n",
      "1000/1000 [==============================] - 0s 15us/step - loss: 0.0019\n",
      "Epoch 9/100\n",
      "1000/1000 [==============================] - 0s 15us/step - loss: 0.0018\n",
      "Epoch 10/100\n",
      "1000/1000 [==============================] - 0s 14us/step - loss: 0.0018\n",
      "Epoch 11/100\n",
      "1000/1000 [==============================] - 0s 14us/step - loss: 0.0017\n",
      "Epoch 12/100\n",
      "1000/1000 [==============================] - 0s 14us/step - loss: 0.0017\n",
      "Epoch 13/100\n",
      "1000/1000 [==============================] - 0s 15us/step - loss: 0.0017\n",
      "Epoch 14/100\n",
      "1000/1000 [==============================] - 0s 14us/step - loss: 0.0017\n",
      "Epoch 15/100\n",
      "1000/1000 [==============================] - 0s 15us/step - loss: 0.0017\n",
      "Epoch 16/100\n",
      "1000/1000 [==============================] - 0s 15us/step - loss: 0.0017\n",
      "\n",
      "Epoch 00016: ReduceLROnPlateau reducing learning rate to 0.009999999776482582.\n",
      "Epoch 17/100\n",
      "1000/1000 [==============================] - 0s 15us/step - loss: 0.0017\n",
      "Epoch 18/100\n",
      "1000/1000 [==============================] - 0s 15us/step - loss: 0.0017\n",
      "Epoch 19/100\n",
      "1000/1000 [==============================] - 0s 14us/step - loss: 0.0017\n",
      "Epoch 20/100\n",
      "1000/1000 [==============================] - 0s 15us/step - loss: 0.0017\n",
      "Epoch 21/100\n",
      "1000/1000 [==============================] - 0s 15us/step - loss: 0.0017\n",
      "Epoch 22/100\n",
      "1000/1000 [==============================] - 0s 15us/step - loss: 0.0017\n",
      "Epoch 23/100\n",
      "1000/1000 [==============================] - 0s 15us/step - loss: 0.0017\n",
      "Epoch 24/100\n",
      "1000/1000 [==============================] - 0s 15us/step - loss: 0.0017\n",
      "Epoch 25/100\n",
      "1000/1000 [==============================] - 0s 16us/step - loss: 0.0017\n",
      "Epoch 26/100\n",
      "1000/1000 [==============================] - 0s 17us/step - loss: 0.0017\n",
      "Epoch 27/100\n",
      "1000/1000 [==============================] - 0s 16us/step - loss: 0.0017\n",
      "Epoch 28/100\n",
      "1000/1000 [==============================] - 0s 15us/step - loss: 0.0017\n",
      "Epoch 29/100\n",
      "1000/1000 [==============================] - 0s 16us/step - loss: 0.0017\n",
      "Epoch 30/100\n",
      "1000/1000 [==============================] - 0s 15us/step - loss: 0.0017\n",
      "Epoch 31/100\n",
      "1000/1000 [==============================] - 0s 16us/step - loss: 0.0017\n",
      "Epoch 32/100\n",
      "1000/1000 [==============================] - 0s 16us/step - loss: 0.0017\n",
      "Epoch 33/100\n",
      "1000/1000 [==============================] - 0s 16us/step - loss: 0.0017\n",
      "Epoch 34/100\n",
      "1000/1000 [==============================] - 0s 15us/step - loss: 0.0017\n",
      "Epoch 35/100\n",
      "1000/1000 [==============================] - 0s 15us/step - loss: 0.0017\n",
      "\n",
      "Epoch 00035: ReduceLROnPlateau reducing learning rate to 0.004999999888241291.\n",
      "Epoch 36/100\n",
      "1000/1000 [==============================] - 0s 15us/step - loss: 0.0017\n",
      "Epoch 37/100\n",
      "1000/1000 [==============================] - 0s 15us/step - loss: 0.0017\n",
      "Epoch 38/100\n",
      "1000/1000 [==============================] - 0s 17us/step - loss: 0.0017\n",
      "Epoch 39/100\n",
      "1000/1000 [==============================] - 0s 16us/step - loss: 0.0017\n",
      "Epoch 40/100\n",
      "1000/1000 [==============================] - 0s 14us/step - loss: 0.0017\n",
      "Epoch 41/100\n",
      "1000/1000 [==============================] - 0s 15us/step - loss: 0.0017\n",
      "Epoch 42/100\n",
      "1000/1000 [==============================] - 0s 17us/step - loss: 0.0017\n",
      "Epoch 43/100\n",
      "1000/1000 [==============================] - 0s 16us/step - loss: 0.0017\n",
      "Epoch 44/100\n",
      "1000/1000 [==============================] - 0s 16us/step - loss: 0.0017\n",
      "Epoch 45/100\n",
      "1000/1000 [==============================] - 0s 15us/step - loss: 0.0017\n",
      "Epoch 46/100\n",
      "1000/1000 [==============================] - 0s 14us/step - loss: 0.0017\n",
      "Epoch 47/100\n",
      "1000/1000 [==============================] - 0s 16us/step - loss: 0.0017\n",
      "Epoch 48/100\n",
      "1000/1000 [==============================] - 0s 15us/step - loss: 0.0017\n",
      "Epoch 49/100\n",
      "1000/1000 [==============================] - 0s 15us/step - loss: 0.0017\n",
      "Epoch 50/100\n",
      "1000/1000 [==============================] - 0s 15us/step - loss: 0.0017\n",
      "Epoch 51/100\n",
      "1000/1000 [==============================] - 0s 16us/step - loss: 0.0017\n",
      "Epoch 52/100\n",
      "1000/1000 [==============================] - 0s 15us/step - loss: 0.0017\n",
      "Epoch 53/100\n",
      "1000/1000 [==============================] - 0s 14us/step - loss: 0.0017\n",
      "Epoch 54/100\n",
      "1000/1000 [==============================] - 0s 15us/step - loss: 0.0017\n",
      "\n",
      "Epoch 00054: ReduceLROnPlateau reducing learning rate to 0.0024999999441206455.\n",
      "Epoch 55/100\n",
      "1000/1000 [==============================] - 0s 15us/step - loss: 0.0017\n",
      "Epoch 56/100\n",
      "1000/1000 [==============================] - 0s 16us/step - loss: 0.0017\n",
      "Epoch 57/100\n",
      "1000/1000 [==============================] - 0s 16us/step - loss: 0.0017\n",
      "Epoch 58/100\n",
      "1000/1000 [==============================] - 0s 15us/step - loss: 0.0017\n",
      "Epoch 59/100\n",
      "1000/1000 [==============================] - 0s 16us/step - loss: 0.0017\n",
      "Epoch 60/100\n",
      "1000/1000 [==============================] - 0s 15us/step - loss: 0.0017\n",
      "Epoch 61/100\n",
      "1000/1000 [==============================] - 0s 15us/step - loss: 0.0017\n",
      "Epoch 62/100\n",
      "1000/1000 [==============================] - 0s 15us/step - loss: 0.0017\n",
      "Epoch 63/100\n",
      "1000/1000 [==============================] - 0s 15us/step - loss: 0.0017\n",
      "Epoch 64/100\n",
      "1000/1000 [==============================] - 0s 15us/step - loss: 0.0017\n",
      "Epoch 65/100\n",
      "1000/1000 [==============================] - 0s 14us/step - loss: 0.0017\n",
      "Epoch 66/100\n",
      "1000/1000 [==============================] - 0s 15us/step - loss: 0.0017\n",
      "Epoch 67/100\n",
      "1000/1000 [==============================] - 0s 15us/step - loss: 0.0017\n",
      "Epoch 68/100\n",
      "1000/1000 [==============================] - 0s 15us/step - loss: 0.0017\n",
      "Epoch 69/100\n",
      "1000/1000 [==============================] - 0s 16us/step - loss: 0.0017\n",
      "Epoch 70/100\n",
      "1000/1000 [==============================] - 0s 16us/step - loss: 0.0017\n",
      "Epoch 71/100\n",
      "1000/1000 [==============================] - 0s 16us/step - loss: 0.0017\n",
      "Epoch 72/100\n",
      "1000/1000 [==============================] - 0s 15us/step - loss: 0.0017\n",
      "Epoch 73/100\n",
      "1000/1000 [==============================] - 0s 15us/step - loss: 0.0017\n",
      "\n",
      "Epoch 00073: ReduceLROnPlateau reducing learning rate to 0.0012499999720603228.\n",
      "Epoch 74/100\n",
      "1000/1000 [==============================] - 0s 16us/step - loss: 0.0017\n",
      "Epoch 00074: early stopping\n"
     ]
    },
    {
     "data": {
      "text/plain": [
       "<keras.callbacks.callbacks.History at 0x7fd0282cc790>"
      ]
     },
     "execution_count": 14,
     "metadata": {},
     "output_type": "execute_result"
    }
   ],
   "source": [
    "d1 = sn.Data(y)\n",
    "m = sn.SciModel([x, x2], d1)\n",
    "m.train([x_data, x_data**2], y_data, learning_rate=0.02)"
   ]
  },
  {
   "cell_type": "markdown",
   "metadata": {
    "colab_type": "text",
    "id": "PXLwtjKDCkUQ"
   },
   "source": [
    "We can finally evaluate the network as: \n"
   ]
  },
  {
   "cell_type": "code",
   "execution_count": 15,
   "metadata": {
    "colab": {
     "base_uri": "https://localhost:8080/",
     "height": 282
    },
    "colab_type": "code",
    "id": "ByB_fSIfKT7d",
    "outputId": "35cc2529-e3b4-45d4-8fd5-e3141c587c51"
   },
   "outputs": [
    {
     "data": {
      "text/plain": [
       "[<matplotlib.lines.Line2D at 0x7fd0405793d0>]"
      ]
     },
     "execution_count": 15,
     "metadata": {},
     "output_type": "execute_result"
    },
    {
     "data": {
      "image/png": "[encoded data removed]",
      "text/plain": [
       "<Figure size 432x288 with 1 Axes>"
      ]
     },
     "metadata": {
      "needs_background": "light"
     },
     "output_type": "display_data"
    }
   ],
   "source": [
    "y_pred = y.eval([x_data, x_data**2])\n",
    "\n",
    "plt.scatter(x_data, y_data)\n",
    "plt.plot(x_data, y_pred, 'r')"
   ]
  },
  {
   "cell_type": "markdown",
   "metadata": {
    "colab_type": "text",
    "id": "CYkXljMQCo45"
   },
   "source": [
    "The weights and biasses of the network are obtained as: "
   ]
  },
  {
   "cell_type": "code",
   "execution_count": 16,
   "metadata": {
    "colab": {
     "base_uri": "https://localhost:8080/",
     "height": 51
    },
    "colab_type": "code",
    "id": "1fouzGf-KW92",
    "outputId": "32ec5bb0-5b1b-49e3-9c34-2a93ce95f5e1"
   },
   "outputs": [
    {
     "data": {
      "text/plain": [
       "[[array([[-0.99811435],\n",
       "         [ 1.9958868 ]], dtype=float32),\n",
       "  array([1.000781], dtype=float32)]]"
      ]
     },
     "execution_count": 16,
     "metadata": {},
     "output_type": "execute_result"
    }
   ],
   "source": [
    "y.get_weights()"
   ]
  },
  {
   "cell_type": "code",
   "execution_count": null,
   "metadata": {
    "colab": {},
    "colab_type": "code",
    "id": "CHowRTS-KZj2"
   },
   "outputs": [],
   "source": []
  }
 ],
 "metadata": {
  "colab": {
   "collapsed_sections": [],
   "name": "lr1.ipynb",
   "provenance": [],
   "toc_visible": true
  },
  "kernelspec": {
   "display_name": "Python 3",
   "language": "python",
   "name": "python3"
  },
  "language_info": {
   "codemirror_mode": {
    "name": "ipython",
    "version": 3
   },
   "file_extension": ".py",
   "mimetype": "text/x-python",
   "name": "python",
   "nbconvert_exporter": "python",
   "pygments_lexer": "ipython3",
   "version": "3.7.7"
  }
 },
 "nbformat": 4,
 "nbformat_minor": 1
}
